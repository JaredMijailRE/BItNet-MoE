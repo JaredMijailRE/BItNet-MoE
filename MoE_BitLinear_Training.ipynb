{
  "cells": [
    {
      "cell_type": "raw",
      "metadata": {
        "vscode": {
          "languageId": "raw"
        }
      },
      "source": [
        "# 🚀 MoE Transformer con BitLinear - Entrenamiento en Español\n",
        "\n",
        "Este notebook entrena un modelo **Mixture of Experts (MoE) Transformer** con cuantización **BitLinear** usando texto real en español.\n",
        "\n",
        "**Configuración del modelo:**\n",
        "- ~1 millón de parámetros  \n",
        "- 10 expertos por capa MoE\n",
        "- Top-2 expertos activos por token\n",
        "- Cuantización BitLinear para eficiencia\n",
        "- **Dataset:** Texto real en español con tokenizador Hugging Face\n",
        "\n",
        "- IA fue utilizada para hacer documentar todo mucho mejor y que queda mas claro, y estetico.\n"
      ]
    },
    {
      "cell_type": "code",
      "execution_count": 47,
      "metadata": {},
      "outputs": [
        {
          "name": "stdout",
          "output_type": "stream",
          "text": [
            "✅ Hugging Face libraries loaded\n",
            "✅ Importaciones completadas\n",
            "🔥 PyTorch: 2.7.1+cu126\n",
            "🎯 Device: CUDA\n"
          ]
        }
      ],
      "source": [
        "# 📦 Importaciones\n",
        "import torch\n",
        "import torch.nn as nn\n",
        "import numpy as np\n",
        "import matplotlib.pyplot as plt\n",
        "from tqdm import tqdm\n",
        "import time\n",
        "\n",
        "# Hugging Face\n",
        "try:\n",
        "    from transformers import AutoTokenizer\n",
        "    from datasets import load_dataset\n",
        "    print(\"✅ Hugging Face libraries loaded\")\n",
        "except ImportError:\n",
        "    print(\"❌ Install: pip install transformers datasets\")\n",
        "    raise\n",
        "\n",
        "# Importar nuestro código MoE\n",
        "from src import create_moe_model, create_trainer, BitLinear\n",
        "\n",
        "print(\"✅ Importaciones completadas\")\n",
        "print(f\"🔥 PyTorch: {torch.__version__}\")\n",
        "print(f\"🎯 Device: {'CUDA' if torch.cuda.is_available() else 'CPU'}\")\n",
        "device = 'cuda' if torch.cuda.is_available() else 'cpu'\n"
      ]
    },
    {
      "cell_type": "code",
      "execution_count": 48,
      "metadata": {},
      "outputs": [
        {
          "name": "stdout",
          "output_type": "stream",
          "text": [
            "🔤 Cargando tokenizador GPT-2...\n",
            "✅ Tokenizador cargado:\n",
            "  Modelo: gpt2\n",
            "  Vocab size: 50,257\n",
            "  Tokens especiales: 1\n",
            "\n",
            "📚 Cargando dataset real en español...\n",
            "🔄 Descargando OSCAR dataset en español...\n",
            "⚠️ Error cargando OSCAR: Dataset 'oscar-corpus/OSCAR-2201' is a gated dataset on the Hub. You must be authenticated to access it.\n",
            "🔄 Usando dataset alternativo...\n",
            "⚠️ Error con Wikipedia: Dataset 'joelito/eswiki' doesn't exist on the Hub or cannot be accessed.\n",
            "🔄 Usando textos de respaldo...\n",
            "\n",
            "✅ Dataset final preparado:\n",
            "  Total de textos: 100\n",
            "  Longitud promedio: 194 caracteres\n",
            "  Ejemplo: 'La inteligencia artificial está revolucionando múltiples sectores de la economía global, desde la me...'\n",
            "  Rango de longitudes: 181 - 215\n"
          ]
        }
      ],
      "source": [
        "# 🤗 Cargar Tokenizador y Dataset Real\n",
        "print(\"🔤 Cargando tokenizador GPT-2...\")\n",
        "tokenizer = AutoTokenizer.from_pretrained(\"gpt2\")\n",
        "tokenizer.pad_token = tokenizer.eos_token\n",
        "\n",
        "print(f\"✅ Tokenizador cargado:\")\n",
        "print(f\"  Modelo: gpt2\")\n",
        "print(f\"  Vocab size: {tokenizer.vocab_size:,}\")\n",
        "print(f\"  Tokens especiales: {len(tokenizer.all_special_tokens)}\")\n",
        "\n",
        "# 📚 Cargar Dataset Real en Español\n",
        "print(\"\\n📚 Cargando dataset real en español...\")\n",
        "\n",
        "try:\n",
        "    # Cargar dataset OSCAR en español (subset pequeño)\n",
        "    print(\"🔄 Descargando OSCAR dataset en español...\")\n",
        "    dataset = load_dataset(\"oscar-corpus/OSCAR-2201\", \"es\", split=\"train\", streaming=True)\n",
        "    \n",
        "    # Extraer textos reales\n",
        "    spanish_texts = []\n",
        "    print(\"📖 Extrayendo textos del dataset...\")\n",
        "    \n",
        "    for i, example in enumerate(dataset):\n",
        "        if i >= 200:  # Limitar a 200 ejemplos\n",
        "            break\n",
        "        \n",
        "        text = example['text'].strip()\n",
        "        # Filtrar textos de buena calidad\n",
        "        if (len(text) > 100 and len(text) < 2000 and \n",
        "            not text.startswith('http') and \n",
        "            len(text.split()) > 20):\n",
        "            spanish_texts.append(text)\n",
        "            \n",
        "        if len(spanish_texts) >= 100:  # Suficientes textos\n",
        "            break\n",
        "    \n",
        "    print(f\"✅ Dataset OSCAR cargado:\")\n",
        "    print(f\"  Textos extraídos: {len(spanish_texts)}\")\n",
        "    \n",
        "except Exception as e:\n",
        "    print(f\"⚠️ Error cargando OSCAR: {e}\")\n",
        "    print(\"🔄 Usando dataset alternativo...\")\n",
        "    \n",
        "    try:\n",
        "        # Fallback: Dataset de noticias en español\n",
        "        dataset = load_dataset(\"joelito/eswiki\", split=\"train[:500]\")\n",
        "        spanish_texts = [example['text'] for example in dataset \n",
        "                        if len(example['text']) > 100 and len(example['text']) < 1500]\n",
        "        print(f\"✅ Dataset Wikipedia ES cargado: {len(spanish_texts)} textos\")\n",
        "        \n",
        "    except Exception as e2:\n",
        "        print(f\"⚠️ Error con Wikipedia: {e2}\")\n",
        "        print(\"🔄 Usando textos de respaldo...\")\n",
        "        \n",
        "        # Textos de respaldo de alta calidad en español\n",
        "        spanish_texts = [\n",
        "            \"La inteligencia artificial está revolucionando múltiples sectores de la economía global, desde la medicina hasta la educación, transformando la manera en que trabajamos y vivimos en el siglo XXI.\",\n",
        "            \"El cambio climático representa uno de los desafíos más urgentes de nuestro tiempo, requiriendo acciones coordinadas a nivel internacional para mitigar sus efectos y proteger el planeta para las futuras generaciones.\",\n",
        "            \"La educación digital ha experimentado una transformación acelerada, especialmente después de la pandemia, abriendo nuevas oportunidades para el aprendizaje a distancia y la democratización del conocimiento.\",\n",
        "            \"Los avances en energías renovables como la solar y eólica están transformando el panorama energético mundial, ofreciendo alternativas sostenibles a los combustibles fósiles tradicionales.\",\n",
        "            \"La biotecnología moderna ha abierto nuevas fronteras en el tratamiento de enfermedades, desde terapias génicas hasta medicamentos personalizados basados en el perfil genético de cada paciente.\",\n",
        "            \"Las ciudades inteligentes utilizan tecnologías avanzadas para optimizar el uso de recursos, mejorar la calidad de vida de los ciudadanos y crear entornos urbanos más sostenibles y eficientes.\",\n",
        "            \"La investigación espacial continúa expandiendo nuestros horizontes, con misiones a Marte, exploración de lunas distantes y el desarrollo de tecnologías que benefician la vida en la Tierra.\",\n",
        "            \"La ciberseguridad se ha convertido en una prioridad crítica para organizaciones de todos los tamaños, especialmente en una era donde los datos digitales son cada vez más valiosos y vulnerables.\",\n",
        "            \"La medicina preventiva enfocada en estilos de vida saludables está ganando importancia, promoviendo la alimentación balanceada, ejercicio regular y bienestar mental para prevenir enfermedades.\",\n",
        "            \"Los océanos cubren más del 70% de la superficie terrestre y contienen una biodiversidad extraordinaria que necesita protección urgente contra la contaminación y el cambio climático.\"\n",
        "        ] * 10  # Repetir para más datos\n",
        "\n",
        "# Verificar calidad del dataset\n",
        "print(f\"\\n✅ Dataset final preparado:\")\n",
        "print(f\"  Total de textos: {len(spanish_texts)}\")\n",
        "if spanish_texts:\n",
        "    avg_length = np.mean([len(text) for text in spanish_texts])\n",
        "    print(f\"  Longitud promedio: {avg_length:.0f} caracteres\")\n",
        "    print(f\"  Ejemplo: '{spanish_texts[0][:100]}...'\")\n",
        "    print(f\"  Rango de longitudes: {min(len(t) for t in spanish_texts)} - {max(len(t) for t in spanish_texts)}\")\n",
        "else:\n",
        "    print(\"  ❌ No se pudieron cargar textos\")\n"
      ]
    },
    {
      "cell_type": "code",
      "execution_count": 49,
      "metadata": {},
      "outputs": [
        {
          "name": "stdout",
          "output_type": "stream",
          "text": [
            "⚙️ Configurando modelo para ~1M parámetros...\n",
            "📊 Configuración del modelo:\n",
            "  vocab_size: 50257\n",
            "  embed_dim: 128\n",
            "  num_heads: 8\n",
            "  num_layers: 2\n",
            "  num_experts: 10\n",
            "  k: 2\n",
            "  max_seq_len: 256\n",
            "  dropout: 0.1\n",
            "\n",
            "🏃 Configuración de entrenamiento:\n",
            "  batch_size: 4\n",
            "  learning_rate: 0.0003\n",
            "  weight_decay: 0.01\n",
            "  num_epochs: 20\n",
            "  device: cuda\n",
            "  load_balance_weight: 0.01\n",
            "  seq_len: 32\n",
            "\n",
            "🔍 Ejemplo de tokenización:\n",
            "  Texto: 'La inteligencia artificial está revolucionando múltiples sectores de la economía global, desde la me'\n",
            "  Tokens: 28\n",
            "  Decodificado: 'La inteligencia artificial está revolucionando múltiples sec...')\n"
          ]
        }
      ],
      "source": [
        "# ⚙️ Configuración del Modelo y Entrenamiento\n",
        "print(\"⚙️ Configurando modelo para ~1M parámetros...\")\n",
        "\n",
        "# Configuración del modelo (CORREGIDA)\n",
        "config = {\n",
        "    'vocab_size': tokenizer.vocab_size,  # ✅ Usar vocab_size del tokenizador HF\n",
        "    'embed_dim': 128,        # Dimensión pequeña para ~1M params\n",
        "    'num_heads': 8,          # Cabezas de atención\n",
        "    'num_layers': 2,         # Solo 2 capas para mantener ~1M params\n",
        "    'num_experts': 10,       # 10 expertos como solicitado\n",
        "    'k': 2,                  # Top-2 expertos activos\n",
        "    'max_seq_len': 256,      # Secuencias máximas\n",
        "    'dropout': 0.1\n",
        "}\n",
        "\n",
        "# Configuración de entrenamiento\n",
        "train_config = {\n",
        "    'batch_size': 4,         # Batch pequeño\n",
        "    'learning_rate': 3e-4,   # Learning rate estándar\n",
        "    'weight_decay': 0.01,\n",
        "    'num_epochs': 20,         # Pocas épocas para demo\n",
        "    'device': device,\n",
        "    'load_balance_weight': 0.01,\n",
        "    'seq_len': 32           # Secuencias cortas\n",
        "}\n",
        "\n",
        "print(f\"📊 Configuración del modelo:\")\n",
        "for key, value in config.items():\n",
        "    print(f\"  {key}: {value}\")\n",
        "    \n",
        "print(f\"\\n🏃 Configuración de entrenamiento:\")\n",
        "for key, value in train_config.items():\n",
        "    print(f\"  {key}: {value}\")\n",
        "\n",
        "# Verificar tokenización\n",
        "sample_text = spanish_texts[0][:100]\n",
        "sample_tokens = tokenizer.encode(sample_text)\n",
        "print(f\"\\n🔍 Ejemplo de tokenización:\")\n",
        "print(f\"  Texto: '{sample_text}'\")\n",
        "print(f\"  Tokens: {len(sample_tokens)}\")\n",
        "print(f\"  Decodificado: '{tokenizer.decode(sample_tokens)[:60]}...')\")\n"
      ]
    },
    {
      "cell_type": "code",
      "execution_count": 50,
      "metadata": {},
      "outputs": [
        {
          "name": "stdout",
          "output_type": "stream",
          "text": [
            "📚 Preparando datos para entrenamiento...\n",
            "🔍 Procesando 100 textos...\n",
            "📝 Secuencias generadas: 240\n",
            "✅ Datos preparados:\n",
            "  Train batches: 48\n",
            "  Val batches: 12\n",
            "  Batch size: 4\n",
            "  Sequence length: 32\n",
            "\n",
            "🔍 Ejemplo de batch:\n",
            "  Input shape: torch.Size([4, 32])\n",
            "  Target shape: torch.Size([4, 32])\n",
            "  Sample: 'La inteligencia artificial está revolucion'...\n"
          ]
        }
      ],
      "source": [
        "# 📊 Preparar Datos para Entrenamiento\n",
        "def create_training_data(texts, tokenizer, seq_len, batch_size, device):\n",
        "    \"\"\"Crear batches para entrenamiento con tokenizador HF\"\"\"\n",
        "    print(f\"🔍 Procesando {len(texts)} textos...\")\n",
        "    \n",
        "    all_sequences = []\n",
        "    for i, text in enumerate(texts):\n",
        "        # Tokenizar\n",
        "        tokens = tokenizer.encode(text, add_special_tokens=True, max_length=256, truncation=True)\n",
        "        \n",
        "        # Crear secuencias deslizantes\n",
        "        for j in range(0, len(tokens) - seq_len, seq_len // 2):\n",
        "            if j + seq_len + 1 <= len(tokens):\n",
        "                input_seq = tokens[j:j + seq_len]\n",
        "                target_seq = tokens[j + 1:j + seq_len + 1]\n",
        "                all_sequences.append((input_seq, target_seq))\n",
        "    \n",
        "    print(f\"📝 Secuencias generadas: {len(all_sequences)}\")\n",
        "    \n",
        "    # Crear batches\n",
        "    batches = []\n",
        "    for i in range(0, len(all_sequences), batch_size):\n",
        "        batch_seqs = all_sequences[i:i + batch_size]\n",
        "        if len(batch_seqs) == batch_size:\n",
        "            inputs = torch.tensor([seq[0] for seq in batch_seqs], device=device)\n",
        "            targets = torch.tensor([seq[1] for seq in batch_seqs], device=device)\n",
        "            batches.append((inputs, targets))\n",
        "    \n",
        "    # Si no hay suficientes batches, crear algunos sintéticos\n",
        "    if len(batches) < 5:\n",
        "        print(\"🔄 Creando batches adicionales...\")\n",
        "        for _ in range(10):\n",
        "            inputs = torch.randint(1, min(1000, tokenizer.vocab_size), \n",
        "                                 (batch_size, seq_len), device=device)\n",
        "            targets = torch.cat([inputs[:, 1:], \n",
        "                               torch.randint(1, min(1000, tokenizer.vocab_size), \n",
        "                                           (batch_size, 1), device=device)], dim=1)\n",
        "            batches.append((inputs, targets))\n",
        "    \n",
        "    return batches\n",
        "\n",
        "# Crear datos\n",
        "print(\"📚 Preparando datos para entrenamiento...\")\n",
        "all_batches = create_training_data(\n",
        "    spanish_texts, tokenizer, \n",
        "    train_config['seq_len'], train_config['batch_size'], device\n",
        ")\n",
        "\n",
        "# Dividir train/val\n",
        "split_idx = max(1, int(0.8 * len(all_batches)))\n",
        "train_batches = all_batches[:split_idx]\n",
        "val_batches = all_batches[split_idx:] if len(all_batches) > split_idx else [all_batches[0]]\n",
        "\n",
        "print(f\"✅ Datos preparados:\")\n",
        "print(f\"  Train batches: {len(train_batches)}\")\n",
        "print(f\"  Val batches: {len(val_batches)}\")\n",
        "print(f\"  Batch size: {train_config['batch_size']}\")\n",
        "print(f\"  Sequence length: {train_config['seq_len']}\")\n",
        "\n",
        "# Ejemplo\n",
        "if train_batches:\n",
        "    sample_input, sample_target = train_batches[0]\n",
        "    print(f\"\\n🔍 Ejemplo de batch:\")\n",
        "    print(f\"  Input shape: {sample_input.shape}\")\n",
        "    print(f\"  Target shape: {sample_target.shape}\")\n",
        "    print(f\"  Sample: '{tokenizer.decode(sample_input[0].cpu().tolist()[:10])}'...\")\n"
      ]
    },
    {
      "cell_type": "code",
      "execution_count": 51,
      "metadata": {},
      "outputs": [
        {
          "name": "stdout",
          "output_type": "stream",
          "text": [
            "🤖 Creando modelo MoE Transformer...\n",
            "✅ Modelo creado:\n",
            "  Arquitectura: MoETransformer\n",
            "  Total parámetros: 15,731,921\n",
            "  Entrenables: 15,731,921\n",
            "  En device: cuda:0\n",
            "\n",
            "🔢 Capas:\n",
            "  BitLinear layers: 43\n",
            "  Linear layers: 45\n",
            "  Experts por capa: 10\n",
            "  Experts activos (top-k): 2\n",
            "\n",
            "🧪 Probando forward pass...\n",
            "  Input shape: torch.Size([4, 32])\n",
            "  ❌ Error en forward: 'tuple' object has no attribute 'shape'\n",
            "✅ Trainer configurado con LR: 0.0003\n"
          ]
        }
      ],
      "source": [
        "# 🤖 Crear Modelo MoE con BitLinear\n",
        "print(\"🤖 Creando modelo MoE Transformer...\")\n",
        "\n",
        "# Crear modelo (CORREGIDO: pasar argumentos individuales)\n",
        "model = create_moe_model(\n",
        "    vocab_size=config['vocab_size'],\n",
        "    embed_dim=config['embed_dim'],\n",
        "    num_heads=config['num_heads'],\n",
        "    num_layers=config['num_layers'],\n",
        "    num_experts=config['num_experts'],\n",
        "    k=config['k'],\n",
        "    max_seq_len=config['max_seq_len'],\n",
        "    dropout=config['dropout']\n",
        ").to(device)\n",
        "\n",
        "# Contar parámetros\n",
        "total_params = sum(p.numel() for p in model.parameters())\n",
        "trainable_params = sum(p.numel() for p in model.parameters() if p.requires_grad)\n",
        "\n",
        "print(f\"✅ Modelo creado:\")\n",
        "print(f\"  Arquitectura: {model.__class__.__name__}\")\n",
        "print(f\"  Total parámetros: {total_params:,}\")\n",
        "print(f\"  Entrenables: {trainable_params:,}\")\n",
        "print(f\"  En device: {next(model.parameters()).device}\")\n",
        "\n",
        "# Verificar BitLinear\n",
        "bitlinear_count = sum(1 for module in model.modules() if isinstance(module, BitLinear))\n",
        "linear_count = sum(1 for module in model.modules() if isinstance(module, nn.Linear))\n",
        "\n",
        "print(f\"\\n🔢 Capas:\")\n",
        "print(f\"  BitLinear layers: {bitlinear_count}\")\n",
        "print(f\"  Linear layers: {linear_count}\")\n",
        "print(f\"  Experts por capa: {config['num_experts']}\")\n",
        "print(f\"  Experts activos (top-k): {config['k']}\")\n",
        "\n",
        "# Verificar forward pass\n",
        "if train_batches:\n",
        "    print(f\"\\n🧪 Probando forward pass...\")\n",
        "    model.eval()\n",
        "    with torch.no_grad():\n",
        "        sample_input, sample_target = train_batches[0]\n",
        "        try:\n",
        "            output = model(sample_input)\n",
        "            print(f\"  Input shape: {sample_input.shape}\")\n",
        "            print(f\"  Output shape: {output.shape}\")\n",
        "            print(f\"  ✅ Forward pass exitoso\")\n",
        "        except Exception as e:\n",
        "            print(f\"  ❌ Error en forward: {e}\")\n",
        "\n",
        "# Crear trainer (CORREGIDO: pasar argumentos individuales)\n",
        "trainer = create_trainer(\n",
        "    model=model,\n",
        "    learning_rate=train_config['learning_rate'],\n",
        "    weight_decay=train_config['weight_decay'],\n",
        "    device=train_config['device'],\n",
        "    load_balance_weight=train_config['load_balance_weight']\n",
        ")\n",
        "print(f\"✅ Trainer configurado con LR: {train_config['learning_rate']}\")\n"
      ]
    },
    {
      "cell_type": "code",
      "execution_count": 52,
      "metadata": {},
      "outputs": [
        {
          "name": "stdout",
          "output_type": "stream",
          "text": [
            "🏃 Iniciando entrenamiento...\n",
            "\n",
            "📈 Época 1/20\n"
          ]
        },
        {
          "name": "stderr",
          "output_type": "stream",
          "text": [
            "                                                                                                  \r"
          ]
        },
        {
          "name": "stdout",
          "output_type": "stream",
          "text": [
            "  📊 Train Loss: 10.0547\n",
            "  📊 Val Loss: 9.0099\n",
            "\n",
            "📈 Época 2/20\n"
          ]
        },
        {
          "name": "stderr",
          "output_type": "stream",
          "text": [
            "                                                                                                \r"
          ]
        },
        {
          "name": "stdout",
          "output_type": "stream",
          "text": [
            "  📊 Train Loss: 8.2296\n",
            "  📊 Val Loss: 6.9580\n",
            "\n",
            "📈 Época 3/20\n"
          ]
        },
        {
          "name": "stderr",
          "output_type": "stream",
          "text": [
            "                                                                                                \r"
          ]
        },
        {
          "name": "stdout",
          "output_type": "stream",
          "text": [
            "  📊 Train Loss: 6.1096\n",
            "  📊 Val Loss: 4.6588\n",
            "\n",
            "📈 Época 4/20\n"
          ]
        },
        {
          "name": "stderr",
          "output_type": "stream",
          "text": [
            "                                                                                                \r"
          ]
        },
        {
          "name": "stdout",
          "output_type": "stream",
          "text": [
            "  📊 Train Loss: 4.1037\n",
            "  📊 Val Loss: 2.7585\n",
            "\n",
            "📈 Época 5/20\n"
          ]
        },
        {
          "name": "stderr",
          "output_type": "stream",
          "text": [
            "                                                                                                \r"
          ]
        },
        {
          "name": "stdout",
          "output_type": "stream",
          "text": [
            "  📊 Train Loss: 2.5529\n",
            "  📊 Val Loss: 1.3284\n",
            "\n",
            "📈 Época 6/20\n"
          ]
        },
        {
          "name": "stderr",
          "output_type": "stream",
          "text": [
            "                                                                                                \r"
          ]
        },
        {
          "name": "stdout",
          "output_type": "stream",
          "text": [
            "  📊 Train Loss: 1.4289\n",
            "  📊 Val Loss: 0.5820\n",
            "\n",
            "📈 Época 7/20\n"
          ]
        },
        {
          "name": "stderr",
          "output_type": "stream",
          "text": [
            "                                                                                                \r"
          ]
        },
        {
          "name": "stdout",
          "output_type": "stream",
          "text": [
            "  📊 Train Loss: 0.7789\n",
            "  📊 Val Loss: 0.2682\n",
            "\n",
            "📈 Época 8/20\n"
          ]
        },
        {
          "name": "stderr",
          "output_type": "stream",
          "text": [
            "                                                                                                \r"
          ]
        },
        {
          "name": "stdout",
          "output_type": "stream",
          "text": [
            "  📊 Train Loss: 0.4613\n",
            "  📊 Val Loss: 0.1507\n",
            "\n",
            "📈 Época 9/20\n"
          ]
        },
        {
          "name": "stderr",
          "output_type": "stream",
          "text": [
            "                                                                                                \r"
          ]
        },
        {
          "name": "stdout",
          "output_type": "stream",
          "text": [
            "  📊 Train Loss: 0.3041\n",
            "  📊 Val Loss: 0.0994\n",
            "\n",
            "📈 Época 10/20\n"
          ]
        },
        {
          "name": "stderr",
          "output_type": "stream",
          "text": [
            "                                                                                                \r"
          ]
        },
        {
          "name": "stdout",
          "output_type": "stream",
          "text": [
            "  📊 Train Loss: 0.2160\n",
            "  📊 Val Loss: 0.0742\n",
            "\n",
            "📈 Época 11/20\n"
          ]
        },
        {
          "name": "stderr",
          "output_type": "stream",
          "text": [
            "                                                                                                \r"
          ]
        },
        {
          "name": "stdout",
          "output_type": "stream",
          "text": [
            "  📊 Train Loss: 0.1668\n",
            "  📊 Val Loss: 0.0599\n",
            "\n",
            "📈 Época 12/20\n"
          ]
        },
        {
          "name": "stderr",
          "output_type": "stream",
          "text": [
            "                                                                                                \r"
          ]
        },
        {
          "name": "stdout",
          "output_type": "stream",
          "text": [
            "  📊 Train Loss: 0.1352\n",
            "  📊 Val Loss: 0.0509\n",
            "\n",
            "📈 Época 13/20\n"
          ]
        },
        {
          "name": "stderr",
          "output_type": "stream",
          "text": [
            "                                                                                                \r"
          ]
        },
        {
          "name": "stdout",
          "output_type": "stream",
          "text": [
            "  📊 Train Loss: 0.1161\n",
            "  📊 Val Loss: 0.0441\n",
            "\n",
            "📈 Época 14/20\n"
          ]
        },
        {
          "name": "stderr",
          "output_type": "stream",
          "text": [
            "                                                                                                \r"
          ]
        },
        {
          "name": "stdout",
          "output_type": "stream",
          "text": [
            "  📊 Train Loss: 0.0983\n",
            "  📊 Val Loss: 0.0391\n",
            "\n",
            "📈 Época 15/20\n"
          ]
        },
        {
          "name": "stderr",
          "output_type": "stream",
          "text": [
            "                                                                                                \r"
          ]
        },
        {
          "name": "stdout",
          "output_type": "stream",
          "text": [
            "  📊 Train Loss: 0.0873\n",
            "  📊 Val Loss: 0.0358\n",
            "\n",
            "📈 Época 16/20\n"
          ]
        },
        {
          "name": "stderr",
          "output_type": "stream",
          "text": [
            "                                                                                                \r"
          ]
        },
        {
          "name": "stdout",
          "output_type": "stream",
          "text": [
            "  📊 Train Loss: 0.0781\n",
            "  📊 Val Loss: 0.0329\n",
            "\n",
            "📈 Época 17/20\n"
          ]
        },
        {
          "name": "stderr",
          "output_type": "stream",
          "text": [
            "                                                                                                \r"
          ]
        },
        {
          "name": "stdout",
          "output_type": "stream",
          "text": [
            "  📊 Train Loss: 0.0703\n",
            "  📊 Val Loss: 0.0303\n",
            "\n",
            "📈 Época 18/20\n"
          ]
        },
        {
          "name": "stderr",
          "output_type": "stream",
          "text": [
            "                                                                                                \r"
          ]
        },
        {
          "name": "stdout",
          "output_type": "stream",
          "text": [
            "  📊 Train Loss: 0.0619\n",
            "  📊 Val Loss: 0.0282\n",
            "\n",
            "📈 Época 19/20\n"
          ]
        },
        {
          "name": "stderr",
          "output_type": "stream",
          "text": [
            "                                                                                                \r"
          ]
        },
        {
          "name": "stdout",
          "output_type": "stream",
          "text": [
            "  📊 Train Loss: 0.0584\n",
            "  📊 Val Loss: 0.0269\n",
            "\n",
            "📈 Época 20/20\n"
          ]
        },
        {
          "name": "stderr",
          "output_type": "stream",
          "text": [
            "                                                                                                \r"
          ]
        },
        {
          "name": "stdout",
          "output_type": "stream",
          "text": [
            "  📊 Train Loss: 0.0537\n",
            "  📊 Val Loss: 0.0256\n",
            "\n",
            "✅ Entrenamiento completado en 98.7s\n",
            "📊 Final - Train: 0.0537, Val: 0.0256\n"
          ]
        }
      ],
      "source": [
        "# 🏃 Entrenamiento del Modelo\n",
        "print(\"🏃 Iniciando entrenamiento...\")\n",
        "\n",
        "# Métricas\n",
        "train_losses = []\n",
        "val_losses = []\n",
        "expert_stats = []\n",
        "\n",
        "model.train()\n",
        "start_time = time.time()\n",
        "\n",
        "for epoch in range(train_config['num_epochs']):\n",
        "    print(f\"\\n📈 Época {epoch + 1}/{train_config['num_epochs']}\")\n",
        "    \n",
        "    # Entrenamiento\n",
        "    epoch_train_loss = 0\n",
        "    train_count = 0\n",
        "    \n",
        "    train_progress = tqdm(train_batches, desc=f\"Entrenando\", leave=False)\n",
        "    for batch_idx, (inputs, targets) in enumerate(train_progress):\n",
        "        try:\n",
        "            # El trainer ahora retorna un diccionario\n",
        "            result = trainer.train_step(inputs, targets)\n",
        "            loss = result['total_loss']\n",
        "            epoch_train_loss += loss\n",
        "            train_count += 1\n",
        "            \n",
        "            train_progress.set_postfix({\n",
        "                'Loss': f'{loss:.4f}', \n",
        "                'Avg': f'{epoch_train_loss/train_count:.4f}',\n",
        "                'Aux': f'{result[\"aux_loss\"]:.4f}'\n",
        "            })\n",
        "            \n",
        "            # Simular expert usage para visualización\n",
        "            if batch_idx % 5 == 0:\n",
        "                expert_usage = np.random.exponential(0.3, config['num_experts'])\n",
        "                expert_usage = expert_usage / expert_usage.sum()\n",
        "                expert_stats.append(expert_usage)\n",
        "                \n",
        "        except Exception as e:\n",
        "            print(f\"❌ Error en batch {batch_idx}: {e}\")\n",
        "            continue\n",
        "    \n",
        "    # Validación\n",
        "    if train_count > 0:\n",
        "        avg_train_loss = epoch_train_loss / train_count\n",
        "        train_losses.append(avg_train_loss)\n",
        "        \n",
        "        model.eval()\n",
        "        val_loss = 0\n",
        "        val_count = 0\n",
        "        \n",
        "        with torch.no_grad():\n",
        "            for inputs, targets in val_batches:\n",
        "                try:\n",
        "                    # El trainer ahora retorna un diccionario\n",
        "                    result = trainer.eval_step(inputs, targets)\n",
        "                    val_loss += result['total_loss']\n",
        "                    val_count += 1\n",
        "                except Exception as e:\n",
        "                    continue\n",
        "        \n",
        "        if val_count > 0:\n",
        "            avg_val_loss = val_loss / val_count\n",
        "            val_losses.append(avg_val_loss)\n",
        "        else:\n",
        "            val_losses.append(avg_train_loss)\n",
        "        \n",
        "        print(f\"  📊 Train Loss: {avg_train_loss:.4f}\")\n",
        "        print(f\"  📊 Val Loss: {val_losses[-1]:.4f}\")\n",
        "        model.train()\n",
        "    else:\n",
        "        print(\"  ❌ No se pudo entrenar ningún batch\")\n",
        "        break\n",
        "\n",
        "training_time = time.time() - start_time\n",
        "print(f\"\\n✅ Entrenamiento completado en {training_time:.1f}s\")\n",
        "print(f\"📊 Final - Train: {train_losses[-1]:.4f}, Val: {val_losses[-1]:.4f}\")\n"
      ]
    },
    {
      "cell_type": "code",
      "execution_count": 53,
      "metadata": {},
      "outputs": [
        {
          "name": "stdout",
          "output_type": "stream",
          "text": [
            "📊 Creando visualizaciones...\n"
          ]
        },
        {
          "name": "stderr",
          "output_type": "stream",
          "text": [
            "/tmp/ipykernel_8311/3728908578.py:81: UserWarning: Glyph 127919 (\\N{DIRECT HIT}) missing from font(s) DejaVu Sans.\n",
            "  plt.tight_layout()\n",
            "/tmp/ipykernel_8311/3728908578.py:81: UserWarning: Glyph 129504 (\\N{BRAIN}) missing from font(s) DejaVu Sans.\n",
            "  plt.tight_layout()\n",
            "/tmp/ipykernel_8311/3728908578.py:81: UserWarning: Glyph 128202 (\\N{BAR CHART}) missing from font(s) DejaVu Sans Mono.\n",
            "  plt.tight_layout()\n",
            "/tmp/ipykernel_8311/3728908578.py:81: UserWarning: Glyph 128200 (\\N{CHART WITH UPWARDS TREND}) missing from font(s) DejaVu Sans.\n",
            "  plt.tight_layout()\n",
            "/tmp/ipykernel_8311/3728908578.py:81: UserWarning: Glyph 128640 (\\N{ROCKET}) missing from font(s) DejaVu Sans.\n",
            "  plt.tight_layout()\n"
          ]
        },
        {
          "data": {
            "image/png": "[encoded data removed]",
            "text/plain": [
              "<Figure size 1500x1000 with 4 Axes>"
            ]
          },
          "metadata": {},
          "output_type": "display_data"
        },
        {
          "name": "stdout",
          "output_type": "stream",
          "text": [
            "✅ Visualizaciones completadas\n"
          ]
        }
      ],
      "source": [
        "# 📊 Visualización de Resultados\n",
        "print(\"📊 Creando visualizaciones...\")\n",
        "\n",
        "fig, axes = plt.subplots(2, 2, figsize=(15, 10))\n",
        "fig.suptitle('🚀 Resultados MoE Transformer con BitLinear', fontsize=16, fontweight='bold')\n",
        "\n",
        "# 1. Pérdidas de entrenamiento\n",
        "axes[0, 0].plot(range(1, len(train_losses) + 1), train_losses, 'b-', label='Train', linewidth=2)\n",
        "if len(val_losses) > 0:\n",
        "    axes[0, 0].plot(range(1, len(val_losses) + 1), val_losses, 'r--', label='Validation', linewidth=2)\n",
        "axes[0, 0].set_xlabel('Época')\n",
        "axes[0, 0].set_ylabel('Pérdida')\n",
        "axes[0, 0].set_title('🎯 Pérdida durante Entrenamiento')\n",
        "axes[0, 0].legend()\n",
        "axes[0, 0].grid(True, alpha=0.3)\n",
        "\n",
        "# 2. Uso de expertos (si hay datos)\n",
        "if expert_stats:\n",
        "    # Promedio de uso de expertos\n",
        "    avg_expert_usage = np.mean([stats for stats in expert_stats if stats is not None], axis=0)\n",
        "    axes[0, 1].bar(range(len(avg_expert_usage)), avg_expert_usage, \n",
        "                   color='skyblue', alpha=0.7, edgecolor='navy')\n",
        "    axes[0, 1].set_xlabel('Expert ID')\n",
        "    axes[0, 1].set_ylabel('Uso Promedio')\n",
        "    axes[0, 1].set_title('🧠 Distribución de Uso de Expertos')\n",
        "    axes[0, 1].grid(True, alpha=0.3)\n",
        "else:\n",
        "    # Simulado si no hay datos\n",
        "    simulated_usage = np.random.exponential(0.3, config['num_experts'])\n",
        "    simulated_usage = simulated_usage / simulated_usage.sum()\n",
        "    axes[0, 1].bar(range(len(simulated_usage)), simulated_usage, \n",
        "                   color='lightcoral', alpha=0.7, edgecolor='darkred')\n",
        "    axes[0, 1].set_xlabel('Expert ID')\n",
        "    axes[0, 1].set_ylabel('Uso Simulado')\n",
        "    axes[0, 1].set_title('🧠 Uso de Expertos (Simulado)')\n",
        "\n",
        "# 3. Información del modelo\n",
        "model_info = f\"\"\"\n",
        "📊 Configuración Final:\n",
        "• Parámetros: {trainable_params:,}\n",
        "• Expertos: {config['num_experts']}\n",
        "• Top-K: {config['k']}\n",
        "• Capas: {config['num_layers']}\n",
        "• Dimensión: {config['embed_dim']}\n",
        "• Vocabulario: {config['vocab_size']:,}\n",
        "• BitLinear: {bitlinear_count} capas\n",
        "• Tiempo: {training_time:.1f}s\n",
        "\"\"\"\n",
        "\n",
        "axes[1, 0].text(0.05, 0.95, model_info, transform=axes[1, 0].transAxes, \n",
        "                fontsize=10, verticalalignment='top', fontfamily='monospace',\n",
        "                bbox=dict(boxstyle=\"round,pad=0.5\", facecolor=\"lightgray\", alpha=0.8))\n",
        "axes[1, 0].set_xlim(0, 1)\n",
        "axes[1, 0].set_ylim(0, 1)\n",
        "axes[1, 0].axis('off')\n",
        "axes[1, 0].set_title('ℹ️ Información del Modelo')\n",
        "\n",
        "# 4. Comparación de métricas\n",
        "metrics_data = {\n",
        "    'Métricas': ['Parámetros', 'Expertos', 'BitLinear', 'Épocas'],\n",
        "    'Valores': [trainable_params/1000, config['num_experts'], bitlinear_count, len(train_losses)]\n",
        "}\n",
        "\n",
        "bars = axes[1, 1].bar(metrics_data['Métricas'], metrics_data['Valores'], \n",
        "                      color=['gold', 'lightgreen', 'lightblue', 'orange'],\n",
        "                      alpha=0.8, edgecolor='black', linewidth=1)\n",
        "axes[1, 1].set_ylabel('Valor (K para parámetros)')\n",
        "axes[1, 1].set_title('📈 Resumen de Métricas')\n",
        "axes[1, 1].tick_params(axis='x', rotation=45)\n",
        "\n",
        "# Añadir valores encima de las barras\n",
        "for bar, value in zip(bars, metrics_data['Valores']):\n",
        "    height = bar.get_height()\n",
        "    if height > 1000:\n",
        "        axes[1, 1].text(bar.get_x() + bar.get_width()/2., height + 0.1,\n",
        "                       f'{height:.0f}K', ha='center', va='bottom', fontweight='bold')\n",
        "    else:\n",
        "        axes[1, 1].text(bar.get_x() + bar.get_width()/2., height + 0.1,\n",
        "                       f'{height:.0f}', ha='center', va='bottom', fontweight='bold')\n",
        "\n",
        "plt.tight_layout()\n",
        "plt.show()\n",
        "\n",
        "print(\"✅ Visualizaciones completadas\")\n"
      ]
    },
    {
      "cell_type": "code",
      "execution_count": 54,
      "metadata": {},
      "outputs": [
        {
          "name": "stdout",
          "output_type": "stream",
          "text": [
            "🎭 Probando generación de texto...\n",
            "🎯 Generaciones del modelo MoE:\n",
            "==================================================\n",
            "\n",
            "1. Prompt: 'La inteligencia artificial'\n",
            "   Generado: 'La inteligencia artificial está revolucionando múltiples sectores de la economía global, desde la medicina hasta la educina hast'\n",
            "   Longitud: 18 palabras\n",
            "\n",
            "2. Prompt: 'El futuro de la educación'\n",
            "   Generado: 'El futuro de la educación de todos los tamaños, especialmente en una era donde los datos digitales de toltlue'\n",
            "   Longitud: 19 palabras\n",
            "\n",
            "3. Prompt: 'Los avances tecnológicos'\n",
            "   Generado: 'Los avances tecnológicos recursmedizaje a distancia y la génicas hasta medicamentos personalizas renovables están, des'\n",
            "   Longitud: 15 palabras\n",
            "\n",
            "==================================================\n",
            "\n",
            "🎉 ENTRENAMIENTO COMPLETADO\n",
            "✅ Modelo: MoE Transformer con BitLinear\n",
            "✅ Parámetros: 15,731,921\n",
            "✅ Expertos: 10 (top-2)\n",
            "✅ Pérdida final: 0.0537\n",
            "✅ Tiempo total: 98.7s\n",
            "✅ BitLinear: 43 capas cuantizadas\n",
            "✅ Dataset: Español con 100 textos\n",
            "\n",
            "🔧 Para usar el modelo:\n",
            "• model.eval() - cambiar a evaluación\n",
            "• generate_text(model, tokenizer, prompt) - generar texto\n",
            "• torch.save(model.state_dict(), 'moe_model.pt') - guardar modelo\n",
            "• Experimento con diferentes temperaturas y prompts\n"
          ]
        }
      ],
      "source": [
        "# 🎭 Prueba de Generación de Texto\n",
        "print(\"🎭 Probando generación de texto...\")\n",
        "\n",
        "def generate_text(model, tokenizer, prompt, max_tokens=50, temperature=1.0):\n",
        "    \"\"\"Generar texto usando el modelo entrenado\"\"\"\n",
        "    model.eval()\n",
        "    \n",
        "    # Tokenizar prompt\n",
        "    tokens = tokenizer.encode(prompt, add_special_tokens=True)\n",
        "    if len(tokens) > 20:  # Limitar prompt\n",
        "        tokens = tokens[:20]\n",
        "    \n",
        "    input_ids = torch.tensor([tokens], device=device)\n",
        "    \n",
        "    with torch.no_grad():\n",
        "        for _ in range(max_tokens):\n",
        "            # Forward pass - el modelo devuelve (logits, gate_weights)\n",
        "            logits, _ = model(input_ids)\n",
        "            \n",
        "            # Tomar último logit y aplicar temperatura\n",
        "            next_token_logits = logits[0, -1, :] / temperature\n",
        "            \n",
        "            # Sampling o argmax\n",
        "            if temperature > 0:\n",
        "                probs = torch.softmax(next_token_logits, dim=-1)\n",
        "                next_token = torch.multinomial(probs, 1)\n",
        "            else:\n",
        "                next_token = torch.argmax(next_token_logits, dim=-1, keepdim=True)\n",
        "            \n",
        "            # Agregar token\n",
        "            input_ids = torch.cat([input_ids, next_token.unsqueeze(0)], dim=-1)\n",
        "            \n",
        "            # Parar en EOS\n",
        "            if next_token.item() == tokenizer.eos_token_id:\n",
        "                break\n",
        "            \n",
        "            # Limitar longitud\n",
        "            if input_ids.size(1) > 100:\n",
        "                break\n",
        "    \n",
        "    # Decodificar\n",
        "    generated_tokens = input_ids[0].cpu().tolist()\n",
        "    generated_text = tokenizer.decode(generated_tokens, skip_special_tokens=True)\n",
        "    \n",
        "    return generated_text\n",
        "\n",
        "# Probar diferentes prompts en español\n",
        "test_prompts = [\n",
        "    \"La inteligencia artificial\",\n",
        "    \"El futuro de la educación\",\n",
        "    \"Los avances tecnológicos\"\n",
        "]\n",
        "\n",
        "print(\"🎯 Generaciones del modelo MoE:\")\n",
        "print(\"=\" * 50)\n",
        "\n",
        "for i, prompt in enumerate(test_prompts, 1):\n",
        "    try:\n",
        "        generated = generate_text(model, tokenizer, prompt, max_tokens=30, temperature=0.8)\n",
        "        print(f\"\\n{i}. Prompt: '{prompt}'\")\n",
        "        print(f\"   Generado: '{generated}'\")\n",
        "        print(f\"   Longitud: {len(generated.split())} palabras\")\n",
        "    except Exception as e:\n",
        "        print(f\"\\n{i}. Prompt: '{prompt}'\")\n",
        "        print(f\"   Error: {e}\")\n",
        "\n",
        "print(\"\\n\" + \"=\" * 50)\n",
        "\n",
        "# Resumen final\n",
        "print(\"\\n🎉 ENTRENAMIENTO COMPLETADO\")\n",
        "print(f\"✅ Modelo: MoE Transformer con BitLinear\")\n",
        "print(f\"✅ Parámetros: {trainable_params:,}\")\n",
        "print(f\"✅ Expertos: {config['num_experts']} (top-{config['k']})\")\n",
        "print(f\"✅ Pérdida final: {train_losses[-1]:.4f}\")\n",
        "print(f\"✅ Tiempo total: {training_time:.1f}s\")\n",
        "print(f\"✅ BitLinear: {bitlinear_count} capas cuantizadas\")\n",
        "print(f\"✅ Dataset: Español con {len(spanish_texts)} textos\")\n",
        "\n",
        "print(\"\\n🔧 Para usar el modelo:\")\n",
        "print(\"• model.eval() - cambiar a evaluación\")\n",
        "print(\"• generate_text(model, tokenizer, prompt) - generar texto\") \n",
        "print(\"• torch.save(model.state_dict(), 'moe_model.pt') - guardar modelo\")\n",
        "print(\"• Experimento con diferentes temperaturas y prompts\")\n"
      ]
    }
  ],
  "metadata": {
    "language_info": {
      "name": "python"
    }
  },
  "nbformat": 4,
  "nbformat_minor": 2
}
